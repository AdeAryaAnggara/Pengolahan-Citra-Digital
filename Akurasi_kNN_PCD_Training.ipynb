{
  "cells": [
    {
      "cell_type": "code",
      "execution_count": 15,
      "metadata": {
        "id": "ww_ykBBvv4p5"
      },
      "outputs": [],
      "source": [
        "# Import module yang akan digunakan\n",
        "import pandas as pd  \n",
        "from sklearn.neighbors import KNeighborsClassifier\n",
        "from sklearn import metrics\n",
        "from sklearn.model_selection import train_test_split\n",
        "from sklearn.metrics import f1_score, precision_score, recall_score \n",
        "from sklearn.metrics import confusion_matrix\n",
        "import seaborn as sns\n",
        "from warnings import simplefilter\n",
        "# ignore all future warnings\n",
        "simplefilter(action='ignore', category=FutureWarning)"
      ]
    },
    {
      "cell_type": "code",
      "execution_count": 16,
      "metadata": {
        "id": "Phaq5jHywFnQ"
      },
      "outputs": [],
      "source": [
        "# Load dataset\n",
        "dataset = pd.read_csv('./csv/data_training3.csv')"
      ]
    },
    {
      "cell_type": "code",
      "execution_count": 17,
      "metadata": {
        "id": "UICdEv_awf4Y"
      },
      "outputs": [],
      "source": [
        "# Membagi data training dan testing\n",
        "X = dataset.drop('kelas', axis=1)  \n",
        "Y = dataset['kelas']\n",
        "X_train, X_test, Y_train, Y_test = train_test_split(X, Y, test_size = 0.10)"
      ]
    },
    {
      "cell_type": "code",
      "execution_count": 18,
      "metadata": {
        "id": "-OgXgvVXwGB1"
      },
      "outputs": [],
      "source": [
        "# Inisiasi jumlah k pada kNN\n",
        "knn3 = KNeighborsClassifier(n_neighbors=3)\n",
        "knn5 = KNeighborsClassifier(n_neighbors=5)\n",
        "knn7 = KNeighborsClassifier(n_neighbors=7)"
      ]
    },
    {
      "cell_type": "code",
      "execution_count": 19,
      "metadata": {
        "id": "HBmmRTqiwY95"
      },
      "outputs": [],
      "source": [
        "# Train model menggunakan data training\n",
        "knn3.fit(X_train, Y_train)\n",
        "\n",
        "# Melakukan prediksi / klasifikasi\n",
        "Y_pred = knn3.predict(X_test)"
      ]
    },
    {
      "cell_type": "code",
      "execution_count": 20,
      "metadata": {
        "id": "fCbDUly6w3JC"
      },
      "outputs": [],
      "source": [
        "# Train model menggunakan data training\n",
        "knn5.fit(X_train, y=Y_train)\n",
        "\n",
        "# Melakukan prediksi / klasifikasi\n",
        "Y_pred = knn5.predict(X_test)"
      ]
    },
    {
      "cell_type": "code",
      "execution_count": 21,
      "metadata": {
        "id": "DJohH4RexLrz"
      },
      "outputs": [],
      "source": [
        "# Train model menggunakan data training\n",
        "knn7.fit(X_train, Y_train)\n",
        "\n",
        "# Melakukan prediksi / klasifikasi\n",
        "Y_pred = knn7.predict(X_test)"
      ]
    },
    {
      "cell_type": "code",
      "execution_count": 22,
      "metadata": {
        "colab": {
          "base_uri": "https://localhost:8080/"
        },
        "id": "7ty3C0AoeRUV",
        "outputId": "27817885-6dae-4e84-b4ed-7bd563702077"
      },
      "outputs": [
        {
          "data": {
            "text/plain": [
              "450    siang\n",
              "362    siang\n",
              "156    malam\n",
              "477    siang\n",
              "333    siang\n",
              "222    malam\n",
              "400    siang\n",
              "213    malam\n",
              "309    siang\n",
              "195    malam\n",
              "313    siang\n",
              "322    siang\n",
              "40     malam\n",
              "290    siang\n",
              "287    siang\n",
              "265    siang\n",
              "8      malam\n",
              "206    malam\n",
              "479    siang\n",
              "272    siang\n",
              "248    siang\n",
              "186    malam\n",
              "60     malam\n",
              "45     malam\n",
              "190    malam\n",
              "113    malam\n",
              "315    siang\n",
              "464    siang\n",
              "360    siang\n",
              "389    siang\n",
              "56     malam\n",
              "282    siang\n",
              "38     malam\n",
              "57     malam\n",
              "397    siang\n",
              "184    malam\n",
              "30     malam\n",
              "224    malam\n",
              "318    siang\n",
              "440    siang\n",
              "47     malam\n",
              "144    malam\n",
              "46     malam\n",
              "278    siang\n",
              "468    siang\n",
              "427    siang\n",
              "408    siang\n",
              "255    siang\n",
              "Name: kelas, dtype: object"
            ]
          },
          "execution_count": 22,
          "metadata": {},
          "output_type": "execute_result"
        }
      ],
      "source": [
        "Y_test"
      ]
    },
    {
      "cell_type": "code",
      "execution_count": 23,
      "metadata": {
        "colab": {
          "base_uri": "https://localhost:8080/"
        },
        "id": "Sokw1SsgeSoO",
        "outputId": "4fb433db-53ae-4349-89cb-aae3a54585ee"
      },
      "outputs": [
        {
          "data": {
            "text/plain": [
              "array(['siang', 'siang', 'malam', 'siang', 'siang', 'malam', 'siang',\n",
              "       'malam', 'siang', 'malam', 'siang', 'malam', 'malam', 'siang',\n",
              "       'siang', 'siang', 'malam', 'malam', 'siang', 'siang', 'siang',\n",
              "       'malam', 'malam', 'malam', 'malam', 'malam', 'siang', 'siang',\n",
              "       'siang', 'malam', 'malam', 'malam', 'malam', 'malam', 'siang',\n",
              "       'malam', 'malam', 'malam', 'siang', 'siang', 'malam', 'malam',\n",
              "       'malam', 'siang', 'siang', 'siang', 'siang', 'siang'], dtype=object)"
            ]
          },
          "execution_count": 23,
          "metadata": {},
          "output_type": "execute_result"
        }
      ],
      "source": [
        "Y_pred"
      ]
    },
    {
      "cell_type": "code",
      "execution_count": 24,
      "metadata": {
        "colab": {
          "base_uri": "https://localhost:8080/",
          "height": 282
        },
        "id": "IuzSEqZnuYoL",
        "outputId": "4a0f5840-4faa-40b8-b918-37ac415e16c8"
      },
      "outputs": [
        {
          "data": {
            "text/plain": [
              "<Axes: >"
            ]
          },
          "execution_count": 24,
          "metadata": {},
          "output_type": "execute_result"
        },
        {
          "data": {
            "image/png": "[encoded data removed]",
            "text/plain": [
              "<Figure size 640x480 with 2 Axes>"
            ]
          },
          "metadata": {},
          "output_type": "display_data"
        }
      ],
      "source": [
        "cf_matrix = confusion_matrix(Y_test, Y_pred)\n",
        "sns.heatmap(cf_matrix, annot=True)"
      ]
    },
    {
      "cell_type": "code",
      "execution_count": 25,
      "metadata": {
        "colab": {
          "base_uri": "https://localhost:8080/"
        },
        "id": "jTeSDorCxJXJ",
        "outputId": "ce7ae31d-ef4f-4e93-d092-c87de2382b4a"
      },
      "outputs": [
        {
          "name": "stdout",
          "output_type": "stream",
          "text": [
            "Recall:  88.9 %\n",
            "Precision:  100.0 %\n",
            "F1-Score:  94.1 %\n",
            "Accuracy: 93.8 %\n"
          ]
        }
      ],
      "source": [
        "print(\"Recall: \",round(recall_score(Y_test, Y_pred, pos_label='siang')*100,1), \"%\")\n",
        "print(\"Precision: \",round(precision_score(Y_test, Y_pred, pos_label='siang')*100,1), \"%\")\n",
        "print(\"F1-Score: \",round(f1_score(Y_test, Y_pred, pos_label='siang')*100,1), \"%\")\n",
        "print(\"Accuracy:\",round(metrics.accuracy_score(Y_test, Y_pred)*100,1), \"%\")"
      ]
    },
    {
      "attachments": {},
      "cell_type": "markdown",
      "metadata": {},
      "source": []
    }
  ],
  "metadata": {
    "colab": {
      "name": "Akurasi-kNN-PCD-Training.ipynb",
      "provenance": []
    },
    "kernelspec": {
      "display_name": "Python 3",
      "name": "python3"
    },
    "language_info": {
      "codemirror_mode": {
        "name": "ipython",
        "version": 3
      },
      "file_extension": ".py",
      "mimetype": "text/x-python",
      "name": "python",
      "nbconvert_exporter": "python",
      "pygments_lexer": "ipython3",
      "version": "3.11.3"
    }
  },
  "nbformat": 4,
  "nbformat_minor": 0
}
